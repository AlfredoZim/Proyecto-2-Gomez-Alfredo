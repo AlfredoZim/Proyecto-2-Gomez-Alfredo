{
 "cells": [
  {
   "cell_type": "markdown",
   "id": "ec70f2e4",
   "metadata": {},
   "source": [
    "<h1 style=\"margin: 2rem 0;font-family:'Lucida Sans', 'Lucida Sans Regular', 'Lucida Grande';text-align: center;\">Synergy Logistics - Proyecto 2</h1>\n",
    "    \n",
    "<div style=\"text-align: center;\">\n",
    "    <img src=\"./img/img.png\" style=\"width: 70%;\">\n",
    "    <h2 style=\"margin: 1rem 2rem;font-family:'Lucida Sans';\">Emtech Institute</h2>\n",
    "    <h3 style=\"margin: 1rem 2rem;font-family:'Lucida Sans';\">Alfredo Gómez</h3>\n",
    "    <h4 style=\"margin: 1rem 2rem;font-family:'Lucida Sans';\">Octubre/2021</h4>\n",
    "    <a style=\"font-family:'Lucida Sans';\" href=\"https://github.com/AlfredoZim/Proyecto-2-Gomez-Alfredo\">Link a Repositorio de Github</a>\n",
    "</div>\n",
    "<hr>"
   ]
  },
  {
   "cell_type": "markdown",
   "id": "9db58532",
   "metadata": {},
   "source": [
    "<div style=\"margin: 1rem 3rem;\">\n",
    "    <h2 style=\"font-family:'Lucida Sans';text-align: center;margin-bottom:4rem;\">Introducción</h2>\n",
    "    <img src=\"./img/img1.png\" style=\"margin:1rem 0;float: right;width: 40%;\">\n",
    "    <p style=\"font-family:'Lucida Sans';\">\n",
    "        Synergy Logistics es una empresa dedicada a la intermediación de servicios de\n",
    "        importación y exportación de diferentes productos.\n",
    "        <br><br>Actualmente la empresa cuenta con una base de datos que refleja las \n",
    "        rutas más importantes que opera desde el año 2015, con su respectivo origen y \n",
    "        destino, año, producto, modo de transporte y valor total. \n",
    "        <br><br>A partir de estos datos se generará un análisis para la estructuración \n",
    "        de la estrategia operativa.\n",
    "        <br><br>La Dirección de dicha empresa ha solicitado al equipo operativo, realizar una\n",
    "        propuesta que permita enfocar las prioridades de la estrategia operativa 2021; para\n",
    "        ello, se plantea analizar la viabilidad de 3 opciones de enfoque:\n",
    "    </p>\n",
    "    <ul style=\"font-family:'Lucida Sans';\">\n",
    "        <li style=\"margin: 2rem 0;\">\n",
    "            <b>Opción 1)</b> Rutas de importación y exportación.\n",
    "        </li>\n",
    "        <li style=\"margin: 2rem 0;\">\n",
    "            <b>Opción 2)</b> Medio de transporte utilizado.\n",
    "        </li>\n",
    "        <li style=\"margin: 2rem 0;\">\n",
    "            <b>Opción 3)</b> Valor total de importaciones y exportaciones.\n",
    "        </li>\n",
    "    </ul>\n",
    "    <p style=\"font-family:'Lucida Sans';\">\n",
    "        Los datos requeridos se extraerán del archivo base que contiene toda la información \n",
    "        respecto a envios. Con base a los datos primero se calcularán las 10 principales rutas \n",
    "        más demandadas, los 3 principales medio de transporte y por último destacar los paises \n",
    "        que generán el 80% del valor de las exportaciones e importaciones, esto separado por grupos.\n",
    "        <br><br> El proyectó estará dividido en secciones en cuanto al código y explicación se refiere, y \n",
    "        al tener claras cada una de las opciones se concluirá en decidir cual será la más conveniente.\n",
    "    </p>\n",
    "</div>\n",
    "<hr>"
   ]
  },
  {
   "cell_type": "markdown",
   "id": "914f8a7a",
   "metadata": {},
   "source": [
    "<div style=\"margin: 1rem 3rem;\">\n",
    "    <h2 style=\"font-family:'Lucida Sans';text-align: center;margin-bottom:4rem;\">Opción sugerida como base de la estrategia de Synergy logistics</h2>\n",
    "<p style=\"font-family:'Lucida Sans';\">\n",
    "Como primer paso importamos la libreria de pandas, la cual nos permitirá leer archivos CSV, y de la misma manera poder realizar operaciones, filtraciones, agrupaciones, y de más, más facilmente.\n",
    "    <br>\n",
    "    Colocaremos como indice la columna del id de registro que viene en el archivo,\n",
    "</p>\n",
    "</div>"
   ]
  },
  {
   "cell_type": "code",
   "execution_count": 337,
   "id": "04742398",
   "metadata": {},
   "outputs": [],
   "source": [
    "import pandas as pd\n",
    "df = pd.read_csv(\"synergy_logistics_database.csv\",index_col=\"register_id\")"
   ]
  },
  {
   "cell_type": "markdown",
   "id": "321911d0",
   "metadata": {},
   "source": [
    "<div style=\"margin: 1rem 3rem;\">\n",
    "    <h3 style=\"font-family:'Lucida Sans';margin: 1rem 0;\">Opción 1) Rutas de importación y exportación.</h3>\n",
    "<p style=\"font-family:'Lucida Sans';\">\n",
    "    Una vez teniendo el dataframe del archivo csv, se ordena de acuerdo al origen y destino, lo cual conforma una ruta, sumando en total el número de viajes hechos en dicha ruta, tambien se muestra la suma del valor total por cada ruta para.\n",
    "</p>\n",
    "</div>"
   ]
  },
  {
   "cell_type": "code",
   "execution_count": 338,
   "id": "ac70bd07",
   "metadata": {},
   "outputs": [
    {
     "data": {
      "text/html": [
       "<div>\n",
       "<style scoped>\n",
       "    .dataframe tbody tr th:only-of-type {\n",
       "        vertical-align: middle;\n",
       "    }\n",
       "\n",
       "    .dataframe tbody tr th {\n",
       "        vertical-align: top;\n",
       "    }\n",
       "\n",
       "    .dataframe thead th {\n",
       "        text-align: right;\n",
       "    }\n",
       "</style>\n",
       "<table border=\"1\" class=\"dataframe\">\n",
       "  <thead>\n",
       "    <tr style=\"text-align: right;\">\n",
       "      <th></th>\n",
       "      <th></th>\n",
       "      <th>viajes</th>\n",
       "      <th>Valor total</th>\n",
       "    </tr>\n",
       "    <tr>\n",
       "      <th>origin</th>\n",
       "      <th>destination</th>\n",
       "      <th></th>\n",
       "      <th></th>\n",
       "    </tr>\n",
       "  </thead>\n",
       "  <tbody>\n",
       "    <tr>\n",
       "      <th>South Korea</th>\n",
       "      <th>Vietnam</th>\n",
       "      <td>497</td>\n",
       "      <td>6877007000</td>\n",
       "    </tr>\n",
       "    <tr>\n",
       "      <th>Netherlands</th>\n",
       "      <th>Belgium</th>\n",
       "      <td>437</td>\n",
       "      <td>3238142000</td>\n",
       "    </tr>\n",
       "    <tr>\n",
       "      <th>USA</th>\n",
       "      <th>Netherlands</th>\n",
       "      <td>436</td>\n",
       "      <td>1032187000</td>\n",
       "    </tr>\n",
       "    <tr>\n",
       "      <th>Japan</th>\n",
       "      <th>Mexico</th>\n",
       "      <td>385</td>\n",
       "      <td>5829000000</td>\n",
       "    </tr>\n",
       "    <tr>\n",
       "      <th rowspan=\"2\" valign=\"top\">China</th>\n",
       "      <th>Mexico</th>\n",
       "      <td>351</td>\n",
       "      <td>12494000000</td>\n",
       "    </tr>\n",
       "    <tr>\n",
       "      <th>Japan</th>\n",
       "      <td>343</td>\n",
       "      <td>5891000000</td>\n",
       "    </tr>\n",
       "    <tr>\n",
       "      <th>Germany</th>\n",
       "      <th>China</th>\n",
       "      <td>328</td>\n",
       "      <td>3495875000</td>\n",
       "    </tr>\n",
       "    <tr>\n",
       "      <th>Japan</th>\n",
       "      <th>Brazil</th>\n",
       "      <td>306</td>\n",
       "      <td>3368155000</td>\n",
       "    </tr>\n",
       "    <tr>\n",
       "      <th>Germany</th>\n",
       "      <th>France</th>\n",
       "      <td>299</td>\n",
       "      <td>2902214000</td>\n",
       "    </tr>\n",
       "    <tr>\n",
       "      <th>South Korea</th>\n",
       "      <th>Japan</th>\n",
       "      <td>294</td>\n",
       "      <td>4741000000</td>\n",
       "    </tr>\n",
       "  </tbody>\n",
       "</table>\n",
       "</div>"
      ],
      "text/plain": [
       "                         viajes  Valor total\n",
       "origin      destination                     \n",
       "South Korea Vietnam         497   6877007000\n",
       "Netherlands Belgium         437   3238142000\n",
       "USA         Netherlands     436   1032187000\n",
       "Japan       Mexico          385   5829000000\n",
       "China       Mexico          351  12494000000\n",
       "            Japan           343   5891000000\n",
       "Germany     China           328   3495875000\n",
       "Japan       Brazil          306   3368155000\n",
       "Germany     France          299   2902214000\n",
       "South Korea Japan           294   4741000000"
      ]
     },
     "execution_count": 338,
     "metadata": {},
     "output_type": "execute_result"
    }
   ],
   "source": [
    "rutas_group = df.groupby([\"origin\",\"destination\"]).agg({\n",
    "    \"destination\":\"count\",\n",
    "    \"total_value\":\"sum\"})\n",
    "rutas_group = rutas_group.rename(columns={\"destination\":\"viajes\",\"total_value\":\"Valor total\"})\n",
    "rutas_group = rutas_group.sort_values(by=[\"viajes\"], ascending=False)\n",
    "rutas = rutas_group.head(10)\n",
    "rutas"
   ]
  },
  {
   "cell_type": "markdown",
   "id": "c982a283",
   "metadata": {},
   "source": [
    "<div style=\"margin: 1rem 3rem;\">\n",
    "<p style=\"font-family:'Lucida Sans';\">\n",
    "    Como se muestra en la tabla, aunque la columna valores totales varía mucho es importante mencionar que estas rutas son más constantes que el resto, por lo que nos dan cierta seguridad para saber que si enfocamos los esfuerzos en estas seguro no será motivo de arrepentimiento, pero esto no quiere decir que sea la mejor opción, ya que  dichos datos (las rutas con más viajes) en comparación con las rutas con mayor valor podemos notar la gran diferencia. \n",
    "    <br><br>Aunque haya rutas con menos viajes son de mayor valor, entonces realizar 1 o 2 viajes nos garantiza una alza significante de valor, puede que no sean viajes constantes pero son realmente significativos.\n",
    "</p>\n",
    "</div>"
   ]
  },
  {
   "cell_type": "code",
   "execution_count": 339,
   "id": "8321a7bd",
   "metadata": {},
   "outputs": [
    {
     "data": {
      "image/png": "[encoded data removed]",
      "text/plain": [
       "<Figure size 432x288 with 1 Axes>"
      ]
     },
     "metadata": {
      "needs_background": "light"
     },
     "output_type": "display_data"
    }
   ],
   "source": [
    "import matplotlib.pyplot as plt\n",
    "rutas[\"Valor total\"].plot(kind=\"bar\")\n",
    "plt.show()"
   ]
  },
  {
   "cell_type": "markdown",
   "id": "b5d9a5b7",
   "metadata": {},
   "source": [
    "<div style=\"margin: 1rem 3rem;\">\n",
    "<p style=\"font-family:'Lucida Sans';\">\n",
    "    Esta es su grafica respecto a a la cantidad de viajes por ruta, se muestran las primeras 10 rutas.\n",
    "</p>\n",
    "</div>"
   ]
  },
  {
   "cell_type": "code",
   "execution_count": 340,
   "id": "8907fe9d",
   "metadata": {},
   "outputs": [
    {
     "data": {
      "image/png": "[encoded data removed]",
      "text/plain": [
       "<Figure size 432x288 with 1 Axes>"
      ]
     },
     "metadata": {
      "needs_background": "light"
     },
     "output_type": "display_data"
    }
   ],
   "source": [
    "rutas_group = rutas_group.sort_values(by=[\"Valor total\"], ascending=False)\n",
    "best_valor = rutas_group.head(10)\n",
    "best_valor[\"Valor total\"].plot(kind=\"bar\")\n",
    "plt.show()"
   ]
  },
  {
   "cell_type": "markdown",
   "id": "6a312403",
   "metadata": {},
   "source": [
    "<p style=\"margin: 1rem 3rem;font-family:'Lucida Sans';\">\n",
    "    Esta gráfica muestra las rutas que han generado más valor, y como se puede observar, se tienen algunas rutas que tienen menos de la mitad del maximo de viajes que ha hecho la ruta más solicitada, por lo que si llega a realizarse 1 solo viaje afectará en mayor medida al valor total de la ruta.\n",
    "</p>"
   ]
  },
  {
   "cell_type": "markdown",
   "id": "e56e508a",
   "metadata": {},
   "source": [
    "<div style=\"margin: 1rem 3rem;\">\n",
    "    <h3 style=\"font-family:'Lucida Sans';margin: 1rem 0;\">Opción 2) Medio de transporte utilizado.</h3>\n",
    "<p style=\"font-family:'Lucida Sans';\">\n",
    "    En la siguiente tabla se muestran cuales son los 3 metodos de transporte que generan mayor valor sumando el de sus importaciones y el de sus exportaciones.\n",
    "    <br><br>\n",
    "    Primero se se agrupan por modo de transporte, agregandole la funcion de contar ambos valores, tanto de importacón como de exportación, de igual manera se cuenta la cantidad de viajes que se realizaron por este medio, y por ultimo se escogen los primeros 3.\n",
    "</p>\n",
    "</div>"
   ]
  },
  {
   "cell_type": "code",
   "execution_count": 396,
   "id": "1385dc43",
   "metadata": {},
   "outputs": [
    {
     "data": {
      "text/html": [
       "<div>\n",
       "<style scoped>\n",
       "    .dataframe tbody tr th:only-of-type {\n",
       "        vertical-align: middle;\n",
       "    }\n",
       "\n",
       "    .dataframe tbody tr th {\n",
       "        vertical-align: top;\n",
       "    }\n",
       "\n",
       "    .dataframe thead th {\n",
       "        text-align: right;\n",
       "    }\n",
       "</style>\n",
       "<table border=\"1\" class=\"dataframe\">\n",
       "  <thead>\n",
       "    <tr style=\"text-align: right;\">\n",
       "      <th></th>\n",
       "      <th>Cantidad</th>\n",
       "      <th>Valor/Modo</th>\n",
       "    </tr>\n",
       "    <tr>\n",
       "      <th>transport_mode</th>\n",
       "      <th></th>\n",
       "      <th></th>\n",
       "    </tr>\n",
       "  </thead>\n",
       "  <tbody>\n",
       "    <tr>\n",
       "      <th>Sea</th>\n",
       "      <td>10688</td>\n",
       "      <td>100530622000</td>\n",
       "    </tr>\n",
       "    <tr>\n",
       "      <th>Rail</th>\n",
       "      <td>3381</td>\n",
       "      <td>43628043000</td>\n",
       "    </tr>\n",
       "    <tr>\n",
       "      <th>Air</th>\n",
       "      <td>2389</td>\n",
       "      <td>38262147000</td>\n",
       "    </tr>\n",
       "  </tbody>\n",
       "</table>\n",
       "</div>"
      ],
      "text/plain": [
       "                Cantidad    Valor/Modo\n",
       "transport_mode                        \n",
       "Sea                10688  100530622000\n",
       "Rail                3381   43628043000\n",
       "Air                 2389   38262147000"
      ]
     },
     "execution_count": 396,
     "metadata": {},
     "output_type": "execute_result"
    }
   ],
   "source": [
    "transport_group = df.groupby([\"transport_mode\"]).agg({\n",
    "    \"direction\":\"count\",\n",
    "    \"total_value\":\"sum\"})\n",
    "transport_group = transport_group.rename(columns={\"direction\":\"Cantidad\",\"total_value\":\"Valor/Modo\"}).sort_values(by=[\"Valor/Modo\"], ascending=False)\n",
    "transport_group.head(3)"
   ]
  },
  {
   "cell_type": "code",
   "execution_count": 324,
   "id": "792a9139",
   "metadata": {},
   "outputs": [
    {
     "name": "stdout",
     "output_type": "stream",
     "text": [
      "Valor del último medio de transporte:  33270486000 \n",
      "Cantida de viajes:  2598\n"
     ]
    }
   ],
   "source": [
    "print(\"Valor del último medio de transporte: \",int(transport_group.tail(1)[\"Valor/Modo\"]),\n",
    "      \"\\nCantida de viajes: \",int(transport_group.tail(1)[\"Cantidad\"]))"
   ]
  },
  {
   "cell_type": "markdown",
   "id": "a6551b5f",
   "metadata": {},
   "source": [
    "<div style=\"margin: 0 3rem;\">\n",
    "<p style=\"font-family:'Lucida Sans';\">\n",
    "    Como podemos ver, el valor que genera el último medio de transporte no es el que tiene menos usos, y esto hace que no sea del todo conveniente darle menos importancia.\n",
    "    <br><br>\n",
    "    Aunque tengamos el problema antes mencionado yo creo que esta puede ser la solución adecuada, aunque ya que existen clientes a los que se les brinda el sevicio unicamente por este metodo aún contamos con otros. Sabiendo que se tienen 4 metodos de transporte y este es el que rinde menores resultado serìa conveniente enforcarnos en los otros reduciendo este, de igual manera puede ser el metodo màs inseguro ya que se mueve por tierra y por hace más vulnerable que el resto.\n",
    "</p>\n",
    "</div>"
   ]
  },
  {
   "cell_type": "code",
   "execution_count": 342,
   "id": "f6e4f08b",
   "metadata": {},
   "outputs": [
    {
     "data": {
      "image/png": "[encoded data removed]",
      "text/plain": [
       "<Figure size 432x288 with 1 Axes>"
      ]
     },
     "metadata": {
      "needs_background": "light"
     },
     "output_type": "display_data"
    }
   ],
   "source": [
    "transport_group[\"Valor/Modo\"].plot(kind=\"bar\")\n",
    "plt.show()"
   ]
  },
  {
   "cell_type": "code",
   "execution_count": 343,
   "id": "029400a6",
   "metadata": {},
   "outputs": [
    {
     "data": {
      "image/png": "[encoded data removed]",
      "text/plain": [
       "<Figure size 432x288 with 1 Axes>"
      ]
     },
     "metadata": {
      "needs_background": "light"
     },
     "output_type": "display_data"
    }
   ],
   "source": [
    "transport_all = df.groupby([\"transport_mode\",\"direction\"]).agg({\"total_value\":\"sum\"})\n",
    "transport_all = transport_all.rename(columns={\"total_value\":\"Valor/Modo\"}).sort_values(by=[\"Valor/Modo\"], ascending=False)\n",
    "transport_all[\"Valor/Modo\"].plot(kind=\"bar\")\n",
    "plt.show()"
   ]
  },
  {
   "cell_type": "markdown",
   "id": "20a94c94",
   "metadata": {},
   "source": [
    "<div style=\"margin: 1rem 3rem;\">\n",
    "<p style=\"font-family:'Lucida Sans';\">\n",
    "    Aquí se muestra cómo afecta la importación y la exportación de cada metodo de transporte, y se puede notar que casi no hay diferencia entre todos los metodos de transporte que no son maritimos, y que solo afecta en cuanto a la importación.\n",
    "</p>\n",
    "</div>"
   ]
  },
  {
   "cell_type": "markdown",
   "id": "7e314d7d",
   "metadata": {},
   "source": [
    "<div style=\"margin: 1rem 3rem;\">\n",
    "    <h3 style=\"font-family:'Lucida Sans';margin: 1rem 0;\">Opción 3) Valor total de importaciones y exportaciones.</h3>\n",
    "<p style=\"font-family:'Lucida Sans';\">\n",
    "    Como última opción se puede calcular el valor generado por pais de acuerdo a sus exportaciones e importaciones. En este metodo primero debemos saber el porcentaje que tiene cada pais en cuanto al valor que genera para la empresa.\n",
    "</p>\n",
    "</div>"
   ]
  },
  {
   "cell_type": "code",
   "execution_count": 387,
   "id": "fd0acbd4",
   "metadata": {},
   "outputs": [
    {
     "data": {
      "text/html": [
       "<div>\n",
       "<style scoped>\n",
       "    .dataframe tbody tr th:only-of-type {\n",
       "        vertical-align: middle;\n",
       "    }\n",
       "\n",
       "    .dataframe tbody tr th {\n",
       "        vertical-align: top;\n",
       "    }\n",
       "\n",
       "    .dataframe thead th {\n",
       "        text-align: right;\n",
       "    }\n",
       "</style>\n",
       "<table border=\"1\" class=\"dataframe\">\n",
       "  <thead>\n",
       "    <tr style=\"text-align: right;\">\n",
       "      <th></th>\n",
       "      <th>Porcentaje/valor</th>\n",
       "    </tr>\n",
       "    <tr>\n",
       "      <th>origin</th>\n",
       "      <th></th>\n",
       "    </tr>\n",
       "  </thead>\n",
       "  <tbody>\n",
       "    <tr>\n",
       "      <th>China</th>\n",
       "      <td>20.960533</td>\n",
       "    </tr>\n",
       "    <tr>\n",
       "      <th>USA</th>\n",
       "      <td>10.963032</td>\n",
       "    </tr>\n",
       "    <tr>\n",
       "      <th>Japan</th>\n",
       "      <td>9.292436</td>\n",
       "    </tr>\n",
       "    <tr>\n",
       "      <th>France</th>\n",
       "      <td>9.240211</td>\n",
       "    </tr>\n",
       "    <tr>\n",
       "      <th>South Korea</th>\n",
       "      <td>8.581777</td>\n",
       "    </tr>\n",
       "    <tr>\n",
       "      <th>Germany</th>\n",
       "      <td>7.229421</td>\n",
       "    </tr>\n",
       "    <tr>\n",
       "      <th>Russia</th>\n",
       "      <td>6.525066</td>\n",
       "    </tr>\n",
       "    <tr>\n",
       "      <th>Canada</th>\n",
       "      <td>5.217178</td>\n",
       "    </tr>\n",
       "    <tr>\n",
       "      <th>Italy</th>\n",
       "      <td>3.076009</td>\n",
       "    </tr>\n",
       "    <tr>\n",
       "      <th>Spain</th>\n",
       "      <td>2.976013</td>\n",
       "    </tr>\n",
       "    <tr>\n",
       "      <th>Mexico</th>\n",
       "      <td>2.800648</td>\n",
       "    </tr>\n",
       "    <tr>\n",
       "      <th>Netherlands</th>\n",
       "      <td>1.910308</td>\n",
       "    </tr>\n",
       "    <tr>\n",
       "      <th>Singapore</th>\n",
       "      <td>1.862701</td>\n",
       "    </tr>\n",
       "    <tr>\n",
       "      <th>Malaysia</th>\n",
       "      <td>1.650507</td>\n",
       "    </tr>\n",
       "    <tr>\n",
       "      <th>United Kingdom</th>\n",
       "      <td>1.402751</td>\n",
       "    </tr>\n",
       "    <tr>\n",
       "      <th>Brazil</th>\n",
       "      <td>1.280997</td>\n",
       "    </tr>\n",
       "    <tr>\n",
       "      <th>India</th>\n",
       "      <td>1.217481</td>\n",
       "    </tr>\n",
       "    <tr>\n",
       "      <th>Belgium</th>\n",
       "      <td>1.199863</td>\n",
       "    </tr>\n",
       "    <tr>\n",
       "      <th>Australia</th>\n",
       "      <td>1.191518</td>\n",
       "    </tr>\n",
       "    <tr>\n",
       "      <th>Switzerland</th>\n",
       "      <td>0.998649</td>\n",
       "    </tr>\n",
       "    <tr>\n",
       "      <th>Vietnam</th>\n",
       "      <td>0.250358</td>\n",
       "    </tr>\n",
       "    <tr>\n",
       "      <th>United Arab Emirates</th>\n",
       "      <td>0.172005</td>\n",
       "    </tr>\n",
       "    <tr>\n",
       "      <th>Austria</th>\n",
       "      <td>0.000535</td>\n",
       "    </tr>\n",
       "  </tbody>\n",
       "</table>\n",
       "</div>"
      ],
      "text/plain": [
       "                      Porcentaje/valor\n",
       "origin                                \n",
       "China                        20.960533\n",
       "USA                          10.963032\n",
       "Japan                         9.292436\n",
       "France                        9.240211\n",
       "South Korea                   8.581777\n",
       "Germany                       7.229421\n",
       "Russia                        6.525066\n",
       "Canada                        5.217178\n",
       "Italy                         3.076009\n",
       "Spain                         2.976013\n",
       "Mexico                        2.800648\n",
       "Netherlands                   1.910308\n",
       "Singapore                     1.862701\n",
       "Malaysia                      1.650507\n",
       "United Kingdom                1.402751\n",
       "Brazil                        1.280997\n",
       "India                         1.217481\n",
       "Belgium                       1.199863\n",
       "Australia                     1.191518\n",
       "Switzerland                   0.998649\n",
       "Vietnam                       0.250358\n",
       "United Arab Emirates          0.172005\n",
       "Austria                       0.000535"
      ]
     },
     "execution_count": 387,
     "metadata": {},
     "output_type": "execute_result"
    }
   ],
   "source": [
    "paises = df.groupby(\"origin\").agg({\"total_value\":\"sum\"}).sort_values(by=\"total_value\", ascending=False)\n",
    "paises[\"total_value\"] = paises[\"total_value\"]*100/sum(paises[\"total_value\"])\n",
    "paises = paises.rename(columns={\"total_value\":\"Porcentaje/valor\"})\n",
    "paises\n"
   ]
  },
  {
   "cell_type": "markdown",
   "id": "a60d80bd",
   "metadata": {},
   "source": [
    "<div style=\"margin: 1rem 3rem;\">\n",
    "<p style=\"font-family:'Lucida Sans';\">\n",
    "    La tabla de arriba muestra el valor que genera cada pais representado en su porcentaje equivalente, tambien está ordenado de manera descendente para destacar a los que representan mayor valor para Synergy Logistics.\n",
    "    <br><br>\n",
    "    Enseguida se extraerán los valores en porcentajes para poder descartar los últimos que ya no entran al 80% principal que genera ingresos.\n",
    "</p>\n",
    "</div>"
   ]
  },
  {
   "cell_type": "code",
   "execution_count": 345,
   "id": "162b5f0c",
   "metadata": {},
   "outputs": [
    {
     "name": "stdout",
     "output_type": "stream",
     "text": [
      "Suma de los primeros  9  valores:  81.08566484680343\n",
      "Suma de los primeros  8  valores:  75.86848635868472\n"
     ]
    }
   ],
   "source": [
    "valores = paises[\"Porcentaje/valor\"].tolist()\n",
    "suma_valores = 0\n",
    "cantidad = 0\n",
    "for i in range(len(valores)):\n",
    "    suma_valores += valores[i]\n",
    "    cantidad += 1\n",
    "    if suma_valores > 80:\n",
    "        suma_valores2 = suma_valores-valores[i-1]\n",
    "        cantidad2 = cantidad-1\n",
    "        break\n",
    "print(\"Suma de los primeros \",cantidad,\" valores: \",suma_valores)\n",
    "print(\"Suma de los primeros \",cantidad2,\" valores: \",suma_valores2)"
   ]
  },
  {
   "cell_type": "markdown",
   "id": "7fdea845",
   "metadata": {},
   "source": [
    "<div style=\"margin: 0 3rem;\">\n",
    "<p style=\"font-family:'Lucida Sans';\">\n",
    "    Realicé un calculo de los primeros paises que generan en conjunto un porcentaje más cercano al 80%, como el calculo no da exactamente el porcentaje requerido se tomará la cantidad de valores que estén más cercanos a dicho porcentaje.\n",
    "    <br><br>\n",
    "    Con los datos obtenidos se muestran en la siguiente grafica los paises que generan el 80% del valor, o el porcentaje más próximo.\n",
    "</p>\n",
    "</div>"
   ]
  },
  {
   "cell_type": "code",
   "execution_count": 397,
   "id": "ac23c4d0",
   "metadata": {},
   "outputs": [
    {
     "data": {
      "image/png": "[encoded data removed]",
      "text/plain": [
       "<Figure size 432x288 with 1 Axes>"
      ]
     },
     "metadata": {
      "needs_background": "light"
     },
     "output_type": "display_data"
    }
   ],
   "source": [
    "paises.head(cantidad)[\"Porcentaje/valor\"].plot(kind=\"bar\")\n",
    "plt.show()"
   ]
  },
  {
   "cell_type": "markdown",
   "id": "d65d3eae",
   "metadata": {},
   "source": [
    "<div style=\"margin: 0 3rem;\">\n",
    "<p style=\"font-family:'Lucida Sans';\">\n",
    "    Esta opción no podría ser la más adecuada desde mi punto de vista, ya que, aunque existen paises que generan menos de 1% del valor total y enfocarse en los principales puede dar un resultado favorable, se dejaría de lado a los demás paises y estos son una mayoría. Pobrablemente en un futuro estos paises que generan menor valor sean más significativos, y enforcarse en ellos podria dar un mejor resultado.\n",
    "</p>\n",
    "</div>"
   ]
  },
  {
   "cell_type": "markdown",
   "id": "3271021e",
   "metadata": {},
   "source": [
    "<hr>"
   ]
  },
  {
   "cell_type": "markdown",
   "id": "58d4babe",
   "metadata": {},
   "source": [
    "<div style=\"margin: 1rem 3rem;\">\n",
    "    <h2 style=\"font-family:'Lucida Sans';text-align: center;margin-bottom:4rem;\">Conclusión</h2>\n",
    "    <img src=\"./img/img3.png\" style=\"margin:1rem 0;float: left;width: 40%;\">\n",
    "    <p style=\"font-family:'Lucida Sans';\">\n",
    "        La mejor opción sin duda es la segunda, ya que afectaría en menor medida al valor de la empresa si es que tomamos en cuenta el valor que afectan las otras dos opciones. \n",
    "    <br><br>El único problema de esta opción es que al querer reducir este meetodo de transporte, se pueden ver afectado los paises de destino y los de origen alos que deban llegar productos, aunque el tener un enfoque hacia los otros 2 metodos se puede llegar a un acuerdo..\n",
    "    <br><br>Como se muestra a continuación el valor total generado es de $215,691,298,000.00, de acuerdo al porcentaje en el que se enfocará podremos ver cual opción es la que puede venir mejor.\n",
    "    </p>\n",
    "</div>"
   ]
  },
  {
   "cell_type": "code",
   "execution_count": 363,
   "id": "39557de6",
   "metadata": {},
   "outputs": [
    {
     "data": {
      "text/plain": [
       "215691298000"
      ]
     },
     "execution_count": 363,
     "metadata": {},
     "output_type": "execute_result"
    }
   ],
   "source": [
    "Valor_empresa = sum(transport_group[\"Valor/Modo\"])\n",
    "Valor_empresa"
   ]
  },
  {
   "cell_type": "markdown",
   "id": "a77c0c82",
   "metadata": {},
   "source": [
    "<div style=\"margin: 0 3rem;\">\n",
    "    <p style=\"font-family:'Lucida Sans';\">\n",
    "        De acuerdo al valor total que se ha generado a lo largo de los años se puede calcular qué porcentaje es lo que realmente afecta.\n",
    "    </p>\n",
    "</div>"
   ]
  },
  {
   "cell_type": "code",
   "execution_count": 393,
   "id": "a0ea4c72",
   "metadata": {},
   "outputs": [
    {
     "data": {
      "image/png": "[encoded data removed]",
      "text/plain": [
       "<Figure size 432x288 with 1 Axes>"
      ]
     },
     "metadata": {
      "needs_background": "light"
     },
     "output_type": "display_data"
    }
   ],
   "source": [
    "opciones = pd.DataFrame()\n",
    "#Valor de la opción 1\n",
    "op_1 = rutas[\"Valor total\"].tolist()\n",
    "suma_op1 = sum(op_1)\n",
    "por_op1 = suma_op1/Valor_empresa\n",
    "#Valor de la opción 2\n",
    "op_2 = transport_group[\"Valor/Modo\"].head(3).tolist()\n",
    "suma_op2 = sum(op_2)\n",
    "por_op2 = suma_op2/Valor_empresa\n",
    "#Valor de la opción 3\n",
    "paises_g = df.groupby(\"origin\").agg({\"total_value\":\"sum\"}).sort_values(by=\"total_value\", ascending=False)\n",
    "op_3 = paises_g[\"total_value\"].head(cantidad)\n",
    "suma_op3 = sum(op_3)\n",
    "por_op3 = suma_op3/Valor_empresa\n",
    "\n",
    "# creamos las columnas\n",
    "opciones['Valor Enfocado  '] = None\n",
    "opciones['Porcentaje del valor'] = None\n",
    "# añadimos filas por su nombre de fila\n",
    "opciones.loc['Opción 1'] = [suma_op1, por_op1]\n",
    "opciones.loc['Opción 2'] = [suma_op2, por_op2]\n",
    "opciones.loc['Opción 3'] = [suma_op3, por_op3]\n",
    "\n",
    "opciones[\"Porcentaje del valor\"].plot(kind=\"bar\")\n",
    "plt.show()"
   ]
  },
  {
   "cell_type": "markdown",
   "id": "8008e420",
   "metadata": {},
   "source": [
    "<div style=\"margin: 0 3rem;\">\n",
    "    <p style=\"font-family:'Lucida Sans';\">\n",
    "        Se calculó el total del valor que abarca cada opción, o en la que se enfocaría, y de acuerdo a los resultado obtenidos yo creo que sin dudase puede elegir la opción 3, ya que hablamos de más del 80% del valor asegurado. Sin embargo, tomar en cuenta el tercer punto no estaría del todo mal, bien se puede realizar una selección de paises que estén acorde a lo sugerido en la opción 2 aunque hablariamos de un sector en especifico de origenes y destinos.\n",
    "    </p>\n",
    "</div>"
   ]
  },
  {
   "cell_type": "code",
   "execution_count": null,
   "id": "0ca2262c",
   "metadata": {},
   "outputs": [],
   "source": []
  }
 ],
 "metadata": {
  "kernelspec": {
   "display_name": "Python 3",
   "language": "python",
   "name": "python3"
  },
  "language_info": {
   "codemirror_mode": {
    "name": "ipython",
    "version": 3
   },
   "file_extension": ".py",
   "mimetype": "text/x-python",
   "name": "python",
   "nbconvert_exporter": "python",
   "pygments_lexer": "ipython3",
   "version": "3.8.8"
  }
 },
 "nbformat": 4,
 "nbformat_minor": 5
}
